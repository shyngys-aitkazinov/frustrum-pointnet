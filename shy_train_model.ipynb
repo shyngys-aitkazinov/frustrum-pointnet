{
 "cells": [
  {
   "cell_type": "code",
   "execution_count": 1,
   "id": "visible-polyester",
   "metadata": {},
   "outputs": [
    {
     "name": "stdout",
     "output_type": "stream",
     "text": [
      "/home/ubuntu/shy-frustrum-pointnets/train /home/ubuntu/shy-frustrum-pointnets\n",
      "True\n"
     ]
    }
   ],
   "source": [
    "from __future__ import print_function\n",
    "import numpy as np\n",
    "import os\n",
    "import torch\n",
    "import torch.nn.functional as F\n",
    "from torch.utils.tensorboard import SummaryWriter\n",
    "from tqdm import tqdm\n",
    "import torch.nn as nn\n",
    "import torch.nn.parallel\n",
    "import torch.utils.data\n",
    "from torch.autograd import Variable\n",
    "from train.shy_provider import *\n",
    "from models.shy_frustrum_pointnet import *\n",
    "ROOT_DIR = os.path.abspath('')\n",
    "OUT_DIR = os.path.join(ROOT_DIR, 'outputs')\n",
    "TEST_LOG = os.path.join(OUT_DIR, 'test')\n",
    "TRAIN_LOG = os.path.join(OUT_DIR, 'train')\n",
    "print(torch.cuda.is_available())"
   ]
  },
  {
   "cell_type": "code",
   "execution_count": 2,
   "id": "endangered-ready",
   "metadata": {},
   "outputs": [],
   "source": [
    "EPOCH_CNT = 0\n",
    "BATCH_SIZE = 32\n",
    "NUM_POINT = 2048\n",
    "MAX_EPOCH = 201\n",
    "BASE_LEARNING_RATE = 0.001\n",
    "# GPU_INDEX = FLAGS.gpu\n",
    "# MOMENTUM = FLAGS.momentum\n",
    "OPTIMIZER = 'adam'\n",
    "NUM_CHANNEL =  4 # point feature channel\n",
    "NUM_CLASSES = 2 # segmentation has two classes"
   ]
  },
  {
   "cell_type": "code",
   "execution_count": 3,
   "id": "copyrighted-fleece",
   "metadata": {},
   "outputs": [],
   "source": [
    "# dataset preparation\n",
    "train_dataset = FrustumDataset(npoints=NUM_POINT, split='train',\n",
    "        rotate_to_center=True, random_flip=True, random_shift=True, one_hot = True)\n",
    "test_dataset = FrustumDataset(npoints=NUM_POINT, split='val',\n",
    "    rotate_to_center=True, one_hot=True)"
   ]
  },
  {
   "cell_type": "code",
   "execution_count": 4,
   "id": "exterior-irrigation",
   "metadata": {},
   "outputs": [],
   "source": [
    "train_dataloader = torch.utils.data.DataLoader(\n",
    "        train_dataset,\n",
    "        batch_size=BATCH_SIZE,\n",
    "        shuffle=True,\n",
    "        num_workers=int(4))\n",
    "\n",
    "test_dataloader = torch.utils.data.DataLoader(\n",
    "    test_dataset,\n",
    "    batch_size=BATCH_SIZE,\n",
    "    shuffle=False,\n",
    "    num_workers=int(4))"
   ]
  },
  {
   "cell_type": "code",
   "execution_count": 5,
   "id": "crucial-platinum",
   "metadata": {},
   "outputs": [],
   "source": [
    "# creatiting a Frustrum_pointnet\n",
    "in_dims = 4\n",
    "net = FrustrumPointNent_v1(in_dims)\n",
    "if torch.cuda.is_available():\n",
    "    net.cuda()"
   ]
  },
  {
   "cell_type": "code",
   "execution_count": 6,
   "id": "contrary-south",
   "metadata": {},
   "outputs": [],
   "source": [
    "# Set an optimizer and a scheduler.\n",
    "optimizer = torch.optim.Adam(\n",
    "    net.parameters(), lr=BASE_LEARNING_RATE)\n",
    "scheduler = torch.optim.lr_scheduler.StepLR(\n",
    "        optimizer, step_size=20, gamma=0.5)"
   ]
  },
  {
   "cell_type": "code",
   "execution_count": 7,
   "id": "associate-rocket",
   "metadata": {},
   "outputs": [],
   "source": [
    "def run_train(data, net, optimizer, writer=None):\n",
    "    batch_data, batch_label, batch_center, batch_heading_class, batch_heading_residual, \\\n",
    "    batch_size_class, batch_size_residual, batch_rot_angle, batch_one_hot_vec = data\n",
    "    \n",
    "    batch_data = batch_data.float().cuda()\n",
    "    batch_one_hot_vec = batch_one_hot_vec.float().cuda()\n",
    "    \n",
    "    batch_label = batch_label.long()\n",
    "    batch_center = batch_center.float()\n",
    "    batch_heading_class = batch_heading_class.long()\n",
    "    batch_heading_residual = batch_heading_residual.float()\n",
    "    batch_size_class = batch_size_class.long()\n",
    "    batch_size_residual = batch_size_residual.float()\n",
    "    batch_rot_angle = batch_rot_angle.float()\n",
    "    \n",
    "    optimizer.zero_grad()\n",
    "    \n",
    "    end_points = net.train()(batch_data, batch_one_hot_vec)\n",
    "    \n",
    "    loss = get_loss(batch_label, batch_center, batch_heading_class, \\\n",
    "                    batch_heading_residual, batch_size_class, batch_size_residual, end_points, None, None)\n",
    "    \n",
    "    # Backprop.\n",
    "    loss.backward()\n",
    "    optimizer.step()\n",
    "    \n",
    "    iou2ds, iou3ds = compute_box3d_iou(end_points['center'].detach().numpy(), end_points['heading_scores'].detach().numpy(), end_points['heading_residuals'].detach().numpy(), \\\n",
    "                      end_points['size_scores'].detach().numpy(), end_points['size_residuals'].detach().numpy(), \\\n",
    "                      batch_center.numpy(), batch_heading_class.numpy(), batch_heading_residual.numpy(), batch_size_class.numpy(), batch_size_residual.numpy())\n",
    "    correct = (torch.argmax(end_points['mask_logits'], 2) == batch_label )\n",
    "    accuracy = torch.sum(correct.float()) / float(BATCH_SIZE*NUM_POINT)\n",
    "    return loss.detach().numpy(), accuracy.numpy(), np.mean(iou2ds), np.mean(iou3ds)"
   ]
  },
  {
   "cell_type": "code",
   "execution_count": 8,
   "id": "loved-weather",
   "metadata": {},
   "outputs": [],
   "source": [
    "def run_test(data, net, writer=None):\n",
    "    batch_data, batch_label, batch_center, batch_heading_class, batch_heading_residual, \\\n",
    "    batch_size_class, batch_size_residual, batch_rot_angle, batch_one_hot_vec = data\n",
    "    \n",
    "    batch_data = batch_data.float().cuda()\n",
    "    batch_one_hot_vec = batch_one_hot_vec.float().cuda()\n",
    "    \n",
    "    batch_label = batch_label.long()\n",
    "    batch_center = batch_center.float()\n",
    "    batch_heading_class = batch_heading_class.long()\n",
    "    batch_heading_residual = batch_heading_residual.float()\n",
    "    batch_size_class = batch_size_class.long()\n",
    "    batch_size_residual = batch_size_residual.float()\n",
    "    batch_rot_angle = batch_rot_angle.float()\n",
    "    \n",
    "    with torch.no_grad():\n",
    "        end_points = net.eval()(batch_data, batch_one_hot_vec)\n",
    "\n",
    "        loss = get_loss(batch_label, batch_center, batch_heading_class, \\\n",
    "                        batch_heading_residual, batch_size_class, batch_size_residual, end_points, None, None)\n",
    "    \n",
    "    \n",
    "        iou2ds, iou3ds = compute_box3d_iou(end_points['center'].detach().numpy(), end_points['heading_scores'].detach().numpy(), end_points['heading_residuals'].detach().numpy(), \\\n",
    "                          end_points['size_scores'].detach().numpy(), end_points['size_residuals'].detach().numpy(), \\\n",
    "                          batch_center.numpy(), batch_heading_class.numpy(), batch_heading_residual.numpy(), batch_size_class.numpy(), batch_size_residual.numpy())\n",
    "        correct = (torch.argmax(end_points['mask_logits'], 2) == batch_label )\n",
    "        accuracy = torch.sum(correct.float()) / float(BATCH_SIZE*NUM_POINT)\n",
    "\n",
    "    return loss.detach().numpy(), accuracy.numpy(), np.mean(iou2ds), np.mean(iou3ds)"
   ]
  },
  {
   "cell_type": "code",
   "execution_count": 9,
   "id": "owned-bedroom",
   "metadata": {},
   "outputs": [],
   "source": [
    "def run_epoch_test(dataset, dataloader, train, epoch = None,\n",
    "        writer=None):\n",
    "    \n",
    "    total_loss = 0.0\n",
    "    total_acc = 0.0\n",
    "    total_iou2ds = 0.0\n",
    "    total_iou3ds = 0.0\n",
    "    n_data = 0\n",
    "    epoch_str = '' if epoch is None else '[Epoch {}/{}]'.format(\n",
    "            str(epoch).zfill(len(str(MAX_EPOCH))), MAX_EPOCH)\n",
    "    \n",
    "    # Create a progress bar.\n",
    "    pbar = tqdm(total=n_data, leave=False)\n",
    "    \n",
    "    mode = 'Train' if train else 'Test'\n",
    "    \n",
    "    \n",
    "    for i, data in enumerate(dataloader):\n",
    "        # Run one step.\n",
    "        loss, seg_accuracy, mean_iou2ds, mean_iou3ds = run_test(data, net, writer) \n",
    "        \n",
    "        \n",
    "\n",
    "        batch_size = list(data[0].size())[0]\n",
    "        total_loss += (loss * batch_size)\n",
    "        total_acc += (seg_accuracy * batch_size)\n",
    "        total_iou2ds += (mean_iou2ds * batch_size)\n",
    "        total_iou3ds += (mean_iou3ds * batch_size)\n",
    "    \n",
    "        pbar.set_description('{} {} Loss: {:f}, SegAcc : {:.2f}%'.format(\n",
    "            epoch_str, mode, loss, seg_accuracy))\n",
    "        pbar.update(batch_size)\n",
    "        n_data += batch_size\n",
    "\n",
    "    \n",
    "    pbar.close()\n",
    "    mean_loss = total_loss / float(n_data)\n",
    "    mean_acc = total_acc / float(n_data)\n",
    "    mean_2d = total_iou2ds/float(n_data)\n",
    "    mean_3d = total_iou3ds/float(n_data)\n",
    "    \n",
    "    if writer!= None:\n",
    "        step = epoch * 300 + i\n",
    "        writer.add_scalar('Loss/Test', loss, step)\n",
    "        writer.add_scalar('SegmentationAccuracy/Test', seg_accuracy, step)\n",
    "        writer.add_scalar('iou2d/Test', mean_iou2ds, step)\n",
    "        writer.add_scalar('ioud3d/Test', mean_iou3ds, step)\n",
    "\n",
    "    return mean_loss, mean_acc, mean_2d, mean_3d\n",
    "    \n",
    "\n",
    "def run_epoch_train(dataset, dataloader, train, epoch = None,\n",
    "        writer=None):\n",
    "    \n",
    "    total_loss = 0.0\n",
    "    total_acc = 0.0\n",
    "    total_iou2ds = 0.0\n",
    "    total_iou3ds = 0.0\n",
    "    n_data = 0\n",
    "    epoch_str = '' if epoch is None else '[Epoch {}/{}]'.format(\n",
    "            str(epoch).zfill(len(str(MAX_EPOCH))), MAX_EPOCH)\n",
    "    \n",
    "    # Create a progress bar.\n",
    "    pbar = tqdm(total=n_data, leave=False)\n",
    "    \n",
    "    mode = 'Train' if train else 'Test'\n",
    "    \n",
    "    \n",
    "    for i, data in enumerate(dataloader):\n",
    "        # Run one step.\n",
    "        loss, seg_accuracy, mean_iou2ds, mean_iou3ds = run_train(data, net, optimizer, writer) \n",
    "        \n",
    "        if train and writer is not None:\n",
    "            # Write results if training.\n",
    "            assert(epoch is not None)\n",
    "            step = epoch * 300 + i\n",
    "            writer.add_scalar('Loss/Train', loss, step)\n",
    "            writer.add_scalar('SegmentationAccuracy/Train', seg_accuracy, step)\n",
    "            writer.add_scalar('iou2d/Train', mean_iou2ds, step)\n",
    "            writer.add_scalar('ioud3d/Train', mean_iou3ds, step)\n",
    "\n",
    "        batch_size = list(data[0].size())[0]\n",
    "        total_loss += (loss * batch_size)\n",
    "        total_acc += (seg_accuracy * batch_size)\n",
    "        total_iou2ds += (mean_iou2ds * batch_size)\n",
    "        total_iou3ds += (mean_iou3ds * batch_size)\n",
    "    \n",
    "        pbar.set_description('{} {} Loss: {:f}, SegAcc : {:.2f}%'.format(\n",
    "            epoch_str, mode, loss, seg_accuracy))\n",
    "        pbar.update(batch_size)\n",
    "        n_data += batch_size\n",
    "        \n",
    "        # to reduce training we train with 300 batches\n",
    "        if (i == 300):\n",
    "            break\n",
    "    \n",
    "    pbar.close()\n",
    "    mean_loss = total_loss / float(n_data)\n",
    "    mean_acc = total_acc / float(n_data)\n",
    "    mean_2d = total_iou2ds/float(n_data)\n",
    "    mean_3d = total_iou3ds/float(n_data)\n",
    "    return mean_loss, mean_acc, mean_2d, mean_3d\n",
    "    \n",
    "\n",
    "    \n",
    "# def run_epoch_train_and_test(train_dataset, train_dataloader, \n",
    "#                              test_dataset, test_dataloader, epoch, writer):\n",
    "    \n"
   ]
  },
  {
   "cell_type": "code",
   "execution_count": 10,
   "id": "defined-petite",
   "metadata": {},
   "outputs": [
    {
     "name": "stderr",
     "output_type": "stream",
     "text": [
      "0it [00:00, ?it/s]                                                                 "
     ]
    },
    {
     "name": "stdout",
     "output_type": "stream",
     "text": [
      "[Epoch 000/201] Train Loss: 33.031680, Train SegAcc: 0.71%, Train iou2d, iou3d: 0.13%, 0.10%, \n"
     ]
    },
    {
     "name": "stderr",
     "output_type": "stream",
     "text": [
      "0it [00:00, ?it/s]                                                                 "
     ]
    },
    {
     "name": "stdout",
     "output_type": "stream",
     "text": [
      "[Epoch 001/201] Train Loss: 17.501654, Train SegAcc: 0.81%, Train iou2d, iou3d: 0.18%, 0.14%, \n"
     ]
    },
    {
     "name": "stderr",
     "output_type": "stream",
     "text": [
      "0it [00:00, ?it/s]                                                                 "
     ]
    },
    {
     "name": "stdout",
     "output_type": "stream",
     "text": [
      "[Epoch 002/201] Train Loss: 15.876099, Train SegAcc: 0.83%, Train iou2d, iou3d: 0.21%, 0.17%, \n"
     ]
    },
    {
     "name": "stderr",
     "output_type": "stream",
     "text": [
      "0it [00:00, ?it/s]                                                                 "
     ]
    },
    {
     "name": "stdout",
     "output_type": "stream",
     "text": [
      "[Epoch 003/201] Train Loss: 15.134365, Train SegAcc: 0.84%, Train iou2d, iou3d: 0.23%, 0.18%, \n"
     ]
    },
    {
     "name": "stderr",
     "output_type": "stream",
     "text": [
      "0it [00:00, ?it/s]                                                                 "
     ]
    },
    {
     "name": "stdout",
     "output_type": "stream",
     "text": [
      "[Epoch 004/201] Train Loss: 13.395899, Train SegAcc: 0.85%, Train iou2d, iou3d: 0.24%, 0.19%, \n"
     ]
    },
    {
     "name": "stderr",
     "output_type": "stream",
     "text": [
      "0it [00:00, ?it/s]                                                                 "
     ]
    },
    {
     "name": "stdout",
     "output_type": "stream",
     "text": [
      "[Epoch 005/201] Train Loss: 12.867579, Train SegAcc: 0.85%, Train iou2d, iou3d: 0.26%, 0.21%, \n"
     ]
    },
    {
     "name": "stderr",
     "output_type": "stream",
     "text": [
      "0it [00:00, ?it/s]                                                                 "
     ]
    },
    {
     "name": "stdout",
     "output_type": "stream",
     "text": [
      "[Epoch 006/201] Train Loss: 11.586760, Train SegAcc: 0.85%, Train iou2d, iou3d: 0.26%, 0.21%, \n"
     ]
    },
    {
     "name": "stderr",
     "output_type": "stream",
     "text": [
      "0it [00:00, ?it/s]                                                                 "
     ]
    },
    {
     "name": "stdout",
     "output_type": "stream",
     "text": [
      "[Epoch 007/201] Train Loss: 11.639451, Train SegAcc: 0.86%, Train iou2d, iou3d: 0.27%, 0.22%, \n"
     ]
    },
    {
     "name": "stderr",
     "output_type": "stream",
     "text": [
      "0it [00:00, ?it/s]                                                                 "
     ]
    },
    {
     "name": "stdout",
     "output_type": "stream",
     "text": [
      "[Epoch 008/201] Train Loss: 10.623743, Train SegAcc: 0.86%, Train iou2d, iou3d: 0.27%, 0.21%, \n"
     ]
    },
    {
     "name": "stderr",
     "output_type": "stream",
     "text": [
      "0it [00:00, ?it/s]                                                                 "
     ]
    },
    {
     "name": "stdout",
     "output_type": "stream",
     "text": [
      "Saved '/home/ubuntu/shy-frustrum-pointnets/outputs/model_10.pth'.\n",
      "[Epoch 009/201] Test Loss: 11.976759, Test SegAcc: 0.842869, Test iou2d, iou3d: 0.26%, 0.21%, \n"
     ]
    },
    {
     "name": "stderr",
     "output_type": "stream",
     "text": [
      "0it [00:00, ?it/s]                                                                 "
     ]
    },
    {
     "name": "stdout",
     "output_type": "stream",
     "text": [
      "[Epoch 010/201] Train Loss: 11.049359, Train SegAcc: 0.86%, Train iou2d, iou3d: 0.27%, 0.23%, \n"
     ]
    },
    {
     "name": "stderr",
     "output_type": "stream",
     "text": [
      "0it [00:00, ?it/s]                                                                 "
     ]
    },
    {
     "name": "stdout",
     "output_type": "stream",
     "text": [
      "[Epoch 011/201] Train Loss: 10.587414, Train SegAcc: 0.87%, Train iou2d, iou3d: 0.27%, 0.22%, \n"
     ]
    },
    {
     "name": "stderr",
     "output_type": "stream",
     "text": [
      "0it [00:00, ?it/s]                                                                 "
     ]
    },
    {
     "name": "stdout",
     "output_type": "stream",
     "text": [
      "[Epoch 012/201] Train Loss: 10.096444, Train SegAcc: 0.87%, Train iou2d, iou3d: 0.27%, 0.23%, \n"
     ]
    },
    {
     "name": "stderr",
     "output_type": "stream",
     "text": [
      "0it [00:00, ?it/s]                                                                 "
     ]
    },
    {
     "name": "stdout",
     "output_type": "stream",
     "text": [
      "[Epoch 013/201] Train Loss: 9.342991, Train SegAcc: 0.87%, Train iou2d, iou3d: 0.29%, 0.25%, \n"
     ]
    },
    {
     "name": "stderr",
     "output_type": "stream",
     "text": [
      "0it [00:00, ?it/s]                                                                 "
     ]
    },
    {
     "name": "stdout",
     "output_type": "stream",
     "text": [
      "[Epoch 014/201] Train Loss: 9.500368, Train SegAcc: 0.87%, Train iou2d, iou3d: 0.30%, 0.25%, \n"
     ]
    },
    {
     "name": "stderr",
     "output_type": "stream",
     "text": [
      "0it [00:00, ?it/s]                                                                 "
     ]
    },
    {
     "name": "stdout",
     "output_type": "stream",
     "text": [
      "[Epoch 015/201] Train Loss: 10.219071, Train SegAcc: 0.87%, Train iou2d, iou3d: 0.29%, 0.25%, \n"
     ]
    },
    {
     "name": "stderr",
     "output_type": "stream",
     "text": [
      "0it [00:00, ?it/s]                                                                 "
     ]
    },
    {
     "name": "stdout",
     "output_type": "stream",
     "text": [
      "[Epoch 016/201] Train Loss: 9.442991, Train SegAcc: 0.87%, Train iou2d, iou3d: 0.29%, 0.25%, \n"
     ]
    },
    {
     "name": "stderr",
     "output_type": "stream",
     "text": [
      "0it [00:00, ?it/s]                                                                 "
     ]
    },
    {
     "name": "stdout",
     "output_type": "stream",
     "text": [
      "[Epoch 017/201] Train Loss: 8.945842, Train SegAcc: 0.88%, Train iou2d, iou3d: 0.29%, 0.25%, \n"
     ]
    },
    {
     "name": "stderr",
     "output_type": "stream",
     "text": [
      "0it [00:00, ?it/s]                                                                 "
     ]
    },
    {
     "name": "stdout",
     "output_type": "stream",
     "text": [
      "[Epoch 018/201] Train Loss: 8.764013, Train SegAcc: 0.88%, Train iou2d, iou3d: 0.30%, 0.25%, \n"
     ]
    },
    {
     "name": "stderr",
     "output_type": "stream",
     "text": [
      "0it [00:00, ?it/s]                                                                 "
     ]
    },
    {
     "name": "stdout",
     "output_type": "stream",
     "text": [
      "Saved '/home/ubuntu/shy-frustrum-pointnets/outputs/model_20.pth'.\n",
      "[Epoch 019/201] Test Loss: 9.319444, Test SegAcc: 0.876641, Test iou2d, iou3d: 0.25%, 0.20%, \n"
     ]
    },
    {
     "name": "stderr",
     "output_type": "stream",
     "text": [
      "0it [00:00, ?it/s]                                                                 "
     ]
    },
    {
     "name": "stdout",
     "output_type": "stream",
     "text": [
      "[Epoch 020/201] Train Loss: 7.595232, Train SegAcc: 0.89%, Train iou2d, iou3d: 0.29%, 0.25%, \n"
     ]
    },
    {
     "name": "stderr",
     "output_type": "stream",
     "text": [
      "0it [00:00, ?it/s]                                                                 "
     ]
    },
    {
     "name": "stdout",
     "output_type": "stream",
     "text": [
      "[Epoch 021/201] Train Loss: 7.605236, Train SegAcc: 0.89%, Train iou2d, iou3d: 0.31%, 0.27%, \n"
     ]
    },
    {
     "name": "stderr",
     "output_type": "stream",
     "text": [
      "0it [00:00, ?it/s]                                                                 "
     ]
    },
    {
     "name": "stdout",
     "output_type": "stream",
     "text": [
      "[Epoch 022/201] Train Loss: 7.432224, Train SegAcc: 0.89%, Train iou2d, iou3d: 0.31%, 0.27%, \n"
     ]
    },
    {
     "name": "stderr",
     "output_type": "stream",
     "text": [
      "0it [00:00, ?it/s]                                                                 "
     ]
    },
    {
     "name": "stdout",
     "output_type": "stream",
     "text": [
      "[Epoch 023/201] Train Loss: 7.258177, Train SegAcc: 0.89%, Train iou2d, iou3d: 0.31%, 0.27%, \n"
     ]
    },
    {
     "name": "stderr",
     "output_type": "stream",
     "text": [
      "0it [00:00, ?it/s]                                                                 "
     ]
    },
    {
     "name": "stdout",
     "output_type": "stream",
     "text": [
      "[Epoch 024/201] Train Loss: 7.656535, Train SegAcc: 0.89%, Train iou2d, iou3d: 0.31%, 0.27%, \n"
     ]
    },
    {
     "name": "stderr",
     "output_type": "stream",
     "text": [
      "0it [00:00, ?it/s]                                                                 "
     ]
    },
    {
     "name": "stdout",
     "output_type": "stream",
     "text": [
      "[Epoch 025/201] Train Loss: 7.552661, Train SegAcc: 0.89%, Train iou2d, iou3d: 0.31%, 0.27%, \n"
     ]
    },
    {
     "name": "stderr",
     "output_type": "stream",
     "text": [
      "0it [00:00, ?it/s]                                                                 "
     ]
    },
    {
     "name": "stdout",
     "output_type": "stream",
     "text": [
      "[Epoch 026/201] Train Loss: 7.492510, Train SegAcc: 0.89%, Train iou2d, iou3d: 0.31%, 0.26%, \n"
     ]
    },
    {
     "name": "stderr",
     "output_type": "stream",
     "text": [
      "0it [00:00, ?it/s]                                                                 "
     ]
    },
    {
     "name": "stdout",
     "output_type": "stream",
     "text": [
      "[Epoch 027/201] Train Loss: 7.754913, Train SegAcc: 0.89%, Train iou2d, iou3d: 0.30%, 0.26%, \n"
     ]
    },
    {
     "name": "stderr",
     "output_type": "stream",
     "text": [
      "0it [00:00, ?it/s]                                                                 "
     ]
    },
    {
     "name": "stdout",
     "output_type": "stream",
     "text": [
      "[Epoch 028/201] Train Loss: 7.182892, Train SegAcc: 0.89%, Train iou2d, iou3d: 0.31%, 0.27%, \n"
     ]
    },
    {
     "name": "stderr",
     "output_type": "stream",
     "text": [
      "0it [00:00, ?it/s]                                                                 "
     ]
    },
    {
     "name": "stdout",
     "output_type": "stream",
     "text": [
      "Saved '/home/ubuntu/shy-frustrum-pointnets/outputs/model_30.pth'.\n",
      "[Epoch 029/201] Test Loss: 7.266528, Test SegAcc: 0.886388, Test iou2d, iou3d: 0.31%, 0.27%, \n"
     ]
    },
    {
     "name": "stderr",
     "output_type": "stream",
     "text": [
      "0it [00:00, ?it/s]                                                                 "
     ]
    },
    {
     "name": "stdout",
     "output_type": "stream",
     "text": [
      "[Epoch 030/201] Train Loss: 7.244217, Train SegAcc: 0.90%, Train iou2d, iou3d: 0.32%, 0.27%, \n"
     ]
    },
    {
     "name": "stderr",
     "output_type": "stream",
     "text": [
      "0it [00:00, ?it/s]                                                                 "
     ]
    },
    {
     "name": "stdout",
     "output_type": "stream",
     "text": [
      "[Epoch 031/201] Train Loss: 7.266330, Train SegAcc: 0.90%, Train iou2d, iou3d: 0.32%, 0.28%, \n"
     ]
    },
    {
     "name": "stderr",
     "output_type": "stream",
     "text": [
      "0it [00:00, ?it/s]                                                                 "
     ]
    },
    {
     "name": "stdout",
     "output_type": "stream",
     "text": [
      "[Epoch 032/201] Train Loss: 6.931508, Train SegAcc: 0.90%, Train iou2d, iou3d: 0.32%, 0.28%, \n"
     ]
    },
    {
     "name": "stderr",
     "output_type": "stream",
     "text": [
      "0it [00:00, ?it/s]                                                                 "
     ]
    },
    {
     "name": "stdout",
     "output_type": "stream",
     "text": [
      "[Epoch 033/201] Train Loss: 7.226981, Train SegAcc: 0.90%, Train iou2d, iou3d: 0.32%, 0.28%, \n"
     ]
    },
    {
     "name": "stderr",
     "output_type": "stream",
     "text": [
      "0it [00:00, ?it/s]                                                                 "
     ]
    },
    {
     "name": "stdout",
     "output_type": "stream",
     "text": [
      "[Epoch 034/201] Train Loss: 7.261277, Train SegAcc: 0.90%, Train iou2d, iou3d: 0.31%, 0.27%, \n"
     ]
    },
    {
     "name": "stderr",
     "output_type": "stream",
     "text": [
      "0it [00:00, ?it/s]                                                                 "
     ]
    },
    {
     "name": "stdout",
     "output_type": "stream",
     "text": [
      "[Epoch 035/201] Train Loss: 7.348217, Train SegAcc: 0.90%, Train iou2d, iou3d: 0.31%, 0.27%, \n"
     ]
    },
    {
     "name": "stderr",
     "output_type": "stream",
     "text": [
      "0it [00:00, ?it/s]                                                                 "
     ]
    },
    {
     "name": "stdout",
     "output_type": "stream",
     "text": [
      "[Epoch 036/201] Train Loss: 6.773327, Train SegAcc: 0.90%, Train iou2d, iou3d: 0.31%, 0.27%, \n"
     ]
    },
    {
     "name": "stderr",
     "output_type": "stream",
     "text": [
      "0it [00:00, ?it/s]                                                                 "
     ]
    },
    {
     "name": "stdout",
     "output_type": "stream",
     "text": [
      "[Epoch 037/201] Train Loss: 6.930093, Train SegAcc: 0.90%, Train iou2d, iou3d: 0.31%, 0.27%, \n"
     ]
    },
    {
     "name": "stderr",
     "output_type": "stream",
     "text": [
      "0it [00:00, ?it/s]                                                                 "
     ]
    },
    {
     "name": "stdout",
     "output_type": "stream",
     "text": [
      "[Epoch 038/201] Train Loss: 7.025600, Train SegAcc: 0.90%, Train iou2d, iou3d: 0.31%, 0.27%, \n"
     ]
    },
    {
     "name": "stderr",
     "output_type": "stream",
     "text": [
      "0it [00:00, ?it/s]                                                                 "
     ]
    },
    {
     "name": "stdout",
     "output_type": "stream",
     "text": [
      "Saved '/home/ubuntu/shy-frustrum-pointnets/outputs/model_40.pth'.\n",
      "[Epoch 039/201] Test Loss: 6.561828, Test SegAcc: 0.886796, Test iou2d, iou3d: 0.29%, 0.25%, \n"
     ]
    },
    {
     "name": "stderr",
     "output_type": "stream",
     "text": [
      "0it [00:00, ?it/s]                                                                 "
     ]
    },
    {
     "name": "stdout",
     "output_type": "stream",
     "text": [
      "[Epoch 040/201] Train Loss: 6.585430, Train SegAcc: 0.91%, Train iou2d, iou3d: 0.31%, 0.27%, \n"
     ]
    },
    {
     "name": "stderr",
     "output_type": "stream",
     "text": [
      "0it [00:00, ?it/s]                                                                 "
     ]
    },
    {
     "name": "stdout",
     "output_type": "stream",
     "text": [
      "[Epoch 041/201] Train Loss: 6.282415, Train SegAcc: 0.90%, Train iou2d, iou3d: 0.31%, 0.27%, \n"
     ]
    },
    {
     "name": "stderr",
     "output_type": "stream",
     "text": [
      "0it [00:00, ?it/s]                                                                 "
     ]
    },
    {
     "name": "stdout",
     "output_type": "stream",
     "text": [
      "[Epoch 042/201] Train Loss: 6.364582, Train SegAcc: 0.91%, Train iou2d, iou3d: 0.31%, 0.27%, \n"
     ]
    },
    {
     "name": "stderr",
     "output_type": "stream",
     "text": [
      "0it [00:00, ?it/s]                                                                 "
     ]
    },
    {
     "name": "stdout",
     "output_type": "stream",
     "text": [
      "[Epoch 043/201] Train Loss: 6.337517, Train SegAcc: 0.91%, Train iou2d, iou3d: 0.32%, 0.28%, \n"
     ]
    },
    {
     "name": "stderr",
     "output_type": "stream",
     "text": [
      "0it [00:00, ?it/s]                                                                 "
     ]
    },
    {
     "name": "stdout",
     "output_type": "stream",
     "text": [
      "[Epoch 044/201] Train Loss: 6.332642, Train SegAcc: 0.91%, Train iou2d, iou3d: 0.31%, 0.27%, \n"
     ]
    },
    {
     "name": "stderr",
     "output_type": "stream",
     "text": [
      "0it [00:00, ?it/s]                                                                 "
     ]
    },
    {
     "name": "stdout",
     "output_type": "stream",
     "text": [
      "[Epoch 045/201] Train Loss: 6.427029, Train SegAcc: 0.91%, Train iou2d, iou3d: 0.32%, 0.28%, \n"
     ]
    },
    {
     "name": "stderr",
     "output_type": "stream",
     "text": [
      "0it [00:00, ?it/s]                                                                 "
     ]
    },
    {
     "name": "stdout",
     "output_type": "stream",
     "text": [
      "[Epoch 046/201] Train Loss: 5.917029, Train SegAcc: 0.91%, Train iou2d, iou3d: 0.31%, 0.27%, \n"
     ]
    },
    {
     "name": "stderr",
     "output_type": "stream",
     "text": [
      "0it [00:00, ?it/s]                                                                 "
     ]
    },
    {
     "name": "stdout",
     "output_type": "stream",
     "text": [
      "[Epoch 047/201] Train Loss: 6.153689, Train SegAcc: 0.91%, Train iou2d, iou3d: 0.31%, 0.27%, \n"
     ]
    },
    {
     "name": "stderr",
     "output_type": "stream",
     "text": [
      "0it [00:00, ?it/s]                                                                 "
     ]
    },
    {
     "name": "stdout",
     "output_type": "stream",
     "text": [
      "[Epoch 048/201] Train Loss: 5.925597, Train SegAcc: 0.91%, Train iou2d, iou3d: 0.32%, 0.28%, \n"
     ]
    },
    {
     "name": "stderr",
     "output_type": "stream",
     "text": [
      "0it [00:00, ?it/s]                                                                 "
     ]
    },
    {
     "name": "stdout",
     "output_type": "stream",
     "text": [
      "Saved '/home/ubuntu/shy-frustrum-pointnets/outputs/model_50.pth'.\n",
      "[Epoch 049/201] Test Loss: 6.325491, Test SegAcc: 0.899547, Test iou2d, iou3d: 0.32%, 0.27%, \n"
     ]
    },
    {
     "name": "stderr",
     "output_type": "stream",
     "text": [
      "0it [00:00, ?it/s]                                                                 "
     ]
    },
    {
     "name": "stdout",
     "output_type": "stream",
     "text": [
      "[Epoch 050/201] Train Loss: 6.286948, Train SegAcc: 0.91%, Train iou2d, iou3d: 0.31%, 0.27%, \n"
     ]
    },
    {
     "name": "stderr",
     "output_type": "stream",
     "text": [
      "0it [00:00, ?it/s]                                                                 "
     ]
    },
    {
     "name": "stdout",
     "output_type": "stream",
     "text": [
      "[Epoch 051/201] Train Loss: 5.891701, Train SegAcc: 0.91%, Train iou2d, iou3d: 0.31%, 0.27%, \n"
     ]
    },
    {
     "name": "stderr",
     "output_type": "stream",
     "text": [
      "0it [00:00, ?it/s]                                                                 "
     ]
    },
    {
     "name": "stdout",
     "output_type": "stream",
     "text": [
      "[Epoch 052/201] Train Loss: 5.805779, Train SegAcc: 0.91%, Train iou2d, iou3d: 0.31%, 0.27%, \n"
     ]
    },
    {
     "name": "stderr",
     "output_type": "stream",
     "text": [
      "0it [00:00, ?it/s]                                                                 "
     ]
    },
    {
     "name": "stdout",
     "output_type": "stream",
     "text": [
      "[Epoch 053/201] Train Loss: 6.292447, Train SegAcc: 0.91%, Train iou2d, iou3d: 0.32%, 0.27%, \n"
     ]
    },
    {
     "name": "stderr",
     "output_type": "stream",
     "text": [
      "0it [00:00, ?it/s]                                                                 "
     ]
    },
    {
     "name": "stdout",
     "output_type": "stream",
     "text": [
      "[Epoch 054/201] Train Loss: 5.996019, Train SegAcc: 0.91%, Train iou2d, iou3d: 0.31%, 0.27%, \n"
     ]
    },
    {
     "name": "stderr",
     "output_type": "stream",
     "text": [
      "0it [00:00, ?it/s]                                                                 "
     ]
    },
    {
     "name": "stdout",
     "output_type": "stream",
     "text": [
      "[Epoch 055/201] Train Loss: 5.902221, Train SegAcc: 0.91%, Train iou2d, iou3d: 0.31%, 0.27%, \n"
     ]
    },
    {
     "name": "stderr",
     "output_type": "stream",
     "text": [
      "0it [00:00, ?it/s]                                                                 "
     ]
    },
    {
     "name": "stdout",
     "output_type": "stream",
     "text": [
      "[Epoch 056/201] Train Loss: 5.798740, Train SegAcc: 0.91%, Train iou2d, iou3d: 0.31%, 0.27%, \n"
     ]
    },
    {
     "name": "stderr",
     "output_type": "stream",
     "text": [
      "0it [00:00, ?it/s]                                                                 "
     ]
    },
    {
     "name": "stdout",
     "output_type": "stream",
     "text": [
      "[Epoch 057/201] Train Loss: 5.760183, Train SegAcc: 0.91%, Train iou2d, iou3d: 0.31%, 0.27%, \n"
     ]
    },
    {
     "name": "stderr",
     "output_type": "stream",
     "text": [
      "0it [00:00, ?it/s]                                                                 "
     ]
    },
    {
     "name": "stdout",
     "output_type": "stream",
     "text": [
      "[Epoch 058/201] Train Loss: 6.210739, Train SegAcc: 0.91%, Train iou2d, iou3d: 0.31%, 0.26%, \n"
     ]
    },
    {
     "name": "stderr",
     "output_type": "stream",
     "text": [
      "0it [00:00, ?it/s]                                                                 "
     ]
    },
    {
     "name": "stdout",
     "output_type": "stream",
     "text": [
      "Saved '/home/ubuntu/shy-frustrum-pointnets/outputs/model_60.pth'.\n",
      "[Epoch 059/201] Test Loss: 6.338317, Test SegAcc: 0.897849, Test iou2d, iou3d: 0.30%, 0.25%, \n"
     ]
    },
    {
     "name": "stderr",
     "output_type": "stream",
     "text": [
      "0it [00:00, ?it/s]                                                                 "
     ]
    },
    {
     "name": "stdout",
     "output_type": "stream",
     "text": [
      "[Epoch 060/201] Train Loss: 5.854012, Train SegAcc: 0.91%, Train iou2d, iou3d: 0.30%, 0.26%, \n"
     ]
    },
    {
     "name": "stderr",
     "output_type": "stream",
     "text": [
      "0it [00:00, ?it/s]                                                                 "
     ]
    },
    {
     "name": "stdout",
     "output_type": "stream",
     "text": [
      "[Epoch 061/201] Train Loss: 5.520143, Train SegAcc: 0.91%, Train iou2d, iou3d: 0.31%, 0.27%, \n"
     ]
    },
    {
     "name": "stderr",
     "output_type": "stream",
     "text": [
      "0it [00:00, ?it/s]                                                                 "
     ]
    },
    {
     "name": "stdout",
     "output_type": "stream",
     "text": [
      "[Epoch 062/201] Train Loss: 5.531234, Train SegAcc: 0.92%, Train iou2d, iou3d: 0.31%, 0.26%, \n"
     ]
    },
    {
     "name": "stderr",
     "output_type": "stream",
     "text": [
      "0it [00:00, ?it/s]                                                                 "
     ]
    },
    {
     "name": "stdout",
     "output_type": "stream",
     "text": [
      "[Epoch 063/201] Train Loss: 5.670284, Train SegAcc: 0.91%, Train iou2d, iou3d: 0.31%, 0.27%, \n"
     ]
    },
    {
     "name": "stderr",
     "output_type": "stream",
     "text": [
      "0it [00:00, ?it/s]                                                                 "
     ]
    },
    {
     "name": "stdout",
     "output_type": "stream",
     "text": [
      "[Epoch 064/201] Train Loss: 5.503411, Train SegAcc: 0.92%, Train iou2d, iou3d: 0.31%, 0.27%, \n"
     ]
    },
    {
     "name": "stderr",
     "output_type": "stream",
     "text": [
      "0it [00:00, ?it/s]                                                                 "
     ]
    },
    {
     "name": "stdout",
     "output_type": "stream",
     "text": [
      "[Epoch 065/201] Train Loss: 5.324967, Train SegAcc: 0.92%, Train iou2d, iou3d: 0.31%, 0.27%, \n"
     ]
    },
    {
     "name": "stderr",
     "output_type": "stream",
     "text": [
      "0it [00:00, ?it/s]                                                                 "
     ]
    },
    {
     "name": "stdout",
     "output_type": "stream",
     "text": [
      "[Epoch 066/201] Train Loss: 5.494425, Train SegAcc: 0.92%, Train iou2d, iou3d: 0.31%, 0.27%, \n"
     ]
    },
    {
     "name": "stderr",
     "output_type": "stream",
     "text": [
      "0it [00:00, ?it/s]                                                                 "
     ]
    },
    {
     "name": "stdout",
     "output_type": "stream",
     "text": [
      "[Epoch 067/201] Train Loss: 5.643633, Train SegAcc: 0.91%, Train iou2d, iou3d: 0.31%, 0.27%, \n"
     ]
    },
    {
     "name": "stderr",
     "output_type": "stream",
     "text": [
      "0it [00:00, ?it/s]                                                                 "
     ]
    },
    {
     "name": "stdout",
     "output_type": "stream",
     "text": [
      "[Epoch 068/201] Train Loss: 5.690271, Train SegAcc: 0.92%, Train iou2d, iou3d: 0.31%, 0.27%, \n"
     ]
    },
    {
     "name": "stderr",
     "output_type": "stream",
     "text": [
      "0it [00:00, ?it/s]                                                                 "
     ]
    },
    {
     "name": "stdout",
     "output_type": "stream",
     "text": [
      "Saved '/home/ubuntu/shy-frustrum-pointnets/outputs/model_70.pth'.\n",
      "[Epoch 069/201] Test Loss: 5.629999, Test SegAcc: 0.903025, Test iou2d, iou3d: 0.29%, 0.25%, \n"
     ]
    },
    {
     "name": "stderr",
     "output_type": "stream",
     "text": [
      "0it [00:00, ?it/s]                                                                 "
     ]
    },
    {
     "name": "stdout",
     "output_type": "stream",
     "text": [
      "[Epoch 070/201] Train Loss: 5.367430, Train SegAcc: 0.92%, Train iou2d, iou3d: 0.31%, 0.26%, \n"
     ]
    },
    {
     "name": "stderr",
     "output_type": "stream",
     "text": [
      "0it [00:00, ?it/s]                                                                 "
     ]
    },
    {
     "name": "stdout",
     "output_type": "stream",
     "text": [
      "[Epoch 071/201] Train Loss: 5.361111, Train SegAcc: 0.92%, Train iou2d, iou3d: 0.31%, 0.27%, \n"
     ]
    },
    {
     "name": "stderr",
     "output_type": "stream",
     "text": [
      "0it [00:00, ?it/s]                                                                 "
     ]
    },
    {
     "name": "stdout",
     "output_type": "stream",
     "text": [
      "[Epoch 072/201] Train Loss: 5.673556, Train SegAcc: 0.92%, Train iou2d, iou3d: 0.31%, 0.26%, \n"
     ]
    },
    {
     "name": "stderr",
     "output_type": "stream",
     "text": [
      "0it [00:00, ?it/s]                                                                 "
     ]
    },
    {
     "name": "stdout",
     "output_type": "stream",
     "text": [
      "[Epoch 073/201] Train Loss: 5.517465, Train SegAcc: 0.92%, Train iou2d, iou3d: 0.31%, 0.27%, \n"
     ]
    },
    {
     "name": "stderr",
     "output_type": "stream",
     "text": [
      "0it [00:00, ?it/s]                                                                 "
     ]
    },
    {
     "name": "stdout",
     "output_type": "stream",
     "text": [
      "[Epoch 074/201] Train Loss: 5.378131, Train SegAcc: 0.92%, Train iou2d, iou3d: 0.31%, 0.27%, \n"
     ]
    },
    {
     "name": "stderr",
     "output_type": "stream",
     "text": [
      "0it [00:00, ?it/s]                                                                 "
     ]
    },
    {
     "name": "stdout",
     "output_type": "stream",
     "text": [
      "[Epoch 075/201] Train Loss: 5.555152, Train SegAcc: 0.92%, Train iou2d, iou3d: 0.31%, 0.26%, \n"
     ]
    },
    {
     "name": "stderr",
     "output_type": "stream",
     "text": [
      "0it [00:00, ?it/s]                                                                 "
     ]
    },
    {
     "name": "stdout",
     "output_type": "stream",
     "text": [
      "[Epoch 076/201] Train Loss: 5.382287, Train SegAcc: 0.92%, Train iou2d, iou3d: 0.31%, 0.26%, \n"
     ]
    },
    {
     "name": "stderr",
     "output_type": "stream",
     "text": [
      "0it [00:00, ?it/s]                                                                 "
     ]
    },
    {
     "name": "stdout",
     "output_type": "stream",
     "text": [
      "[Epoch 077/201] Train Loss: 5.315546, Train SegAcc: 0.92%, Train iou2d, iou3d: 0.31%, 0.26%, \n"
     ]
    },
    {
     "name": "stderr",
     "output_type": "stream",
     "text": [
      "0it [00:00, ?it/s]                                                                 "
     ]
    },
    {
     "name": "stdout",
     "output_type": "stream",
     "text": [
      "[Epoch 078/201] Train Loss: 5.406474, Train SegAcc: 0.92%, Train iou2d, iou3d: 0.31%, 0.26%, \n"
     ]
    },
    {
     "name": "stderr",
     "output_type": "stream",
     "text": [
      "0it [00:00, ?it/s]                                                                 "
     ]
    },
    {
     "name": "stdout",
     "output_type": "stream",
     "text": [
      "Saved '/home/ubuntu/shy-frustrum-pointnets/outputs/model_80.pth'.\n",
      "[Epoch 079/201] Test Loss: 5.967704, Test SegAcc: 0.901556, Test iou2d, iou3d: 0.26%, 0.22%, \n"
     ]
    },
    {
     "name": "stderr",
     "output_type": "stream",
     "text": [
      "0it [00:00, ?it/s]                                                                 "
     ]
    },
    {
     "name": "stdout",
     "output_type": "stream",
     "text": [
      "[Epoch 080/201] Train Loss: 5.251911, Train SegAcc: 0.92%, Train iou2d, iou3d: 0.30%, 0.26%, \n"
     ]
    },
    {
     "name": "stderr",
     "output_type": "stream",
     "text": [
      "0it [00:00, ?it/s]                                                                 "
     ]
    },
    {
     "name": "stdout",
     "output_type": "stream",
     "text": [
      "[Epoch 081/201] Train Loss: 5.033456, Train SegAcc: 0.92%, Train iou2d, iou3d: 0.30%, 0.26%, \n"
     ]
    },
    {
     "name": "stderr",
     "output_type": "stream",
     "text": [
      "0it [00:00, ?it/s]                                                                 "
     ]
    },
    {
     "name": "stdout",
     "output_type": "stream",
     "text": [
      "[Epoch 082/201] Train Loss: 5.218063, Train SegAcc: 0.92%, Train iou2d, iou3d: 0.31%, 0.26%, \n"
     ]
    },
    {
     "name": "stderr",
     "output_type": "stream",
     "text": [
      "0it [00:00, ?it/s]                                                                 "
     ]
    },
    {
     "name": "stdout",
     "output_type": "stream",
     "text": [
      "[Epoch 083/201] Train Loss: 5.453779, Train SegAcc: 0.92%, Train iou2d, iou3d: 0.30%, 0.26%, \n"
     ]
    },
    {
     "name": "stderr",
     "output_type": "stream",
     "text": [
      "0it [00:00, ?it/s]                                                                 "
     ]
    },
    {
     "name": "stdout",
     "output_type": "stream",
     "text": [
      "[Epoch 084/201] Train Loss: 5.131284, Train SegAcc: 0.92%, Train iou2d, iou3d: 0.31%, 0.27%, \n"
     ]
    },
    {
     "name": "stderr",
     "output_type": "stream",
     "text": [
      "0it [00:00, ?it/s]                                                                 "
     ]
    },
    {
     "name": "stdout",
     "output_type": "stream",
     "text": [
      "[Epoch 085/201] Train Loss: 5.126240, Train SegAcc: 0.92%, Train iou2d, iou3d: 0.31%, 0.27%, \n"
     ]
    },
    {
     "name": "stderr",
     "output_type": "stream",
     "text": [
      "0it [00:00, ?it/s]                                                                 "
     ]
    },
    {
     "name": "stdout",
     "output_type": "stream",
     "text": [
      "[Epoch 086/201] Train Loss: 5.198339, Train SegAcc: 0.92%, Train iou2d, iou3d: 0.31%, 0.26%, \n"
     ]
    },
    {
     "name": "stderr",
     "output_type": "stream",
     "text": [
      "0it [00:00, ?it/s]                                                                 "
     ]
    },
    {
     "name": "stdout",
     "output_type": "stream",
     "text": [
      "[Epoch 087/201] Train Loss: 5.052032, Train SegAcc: 0.92%, Train iou2d, iou3d: 0.31%, 0.27%, \n"
     ]
    },
    {
     "name": "stderr",
     "output_type": "stream",
     "text": [
      "0it [00:00, ?it/s]                                                                 "
     ]
    },
    {
     "name": "stdout",
     "output_type": "stream",
     "text": [
      "[Epoch 088/201] Train Loss: 5.613316, Train SegAcc: 0.92%, Train iou2d, iou3d: 0.31%, 0.27%, \n"
     ]
    },
    {
     "name": "stderr",
     "output_type": "stream",
     "text": [
      "0it [00:00, ?it/s]                                                                 "
     ]
    },
    {
     "name": "stdout",
     "output_type": "stream",
     "text": [
      "Saved '/home/ubuntu/shy-frustrum-pointnets/outputs/model_90.pth'.\n",
      "[Epoch 089/201] Test Loss: 5.556240, Test SegAcc: 0.903710, Test iou2d, iou3d: 0.29%, 0.25%, \n"
     ]
    },
    {
     "name": "stderr",
     "output_type": "stream",
     "text": [
      "0it [00:00, ?it/s]                                                                 "
     ]
    },
    {
     "name": "stdout",
     "output_type": "stream",
     "text": [
      "[Epoch 090/201] Train Loss: 5.077346, Train SegAcc: 0.92%, Train iou2d, iou3d: 0.31%, 0.27%, \n"
     ]
    },
    {
     "name": "stderr",
     "output_type": "stream",
     "text": [
      "0it [00:00, ?it/s]                                                                 "
     ]
    },
    {
     "name": "stdout",
     "output_type": "stream",
     "text": [
      "[Epoch 091/201] Train Loss: 4.986816, Train SegAcc: 0.92%, Train iou2d, iou3d: 0.31%, 0.26%, \n"
     ]
    },
    {
     "name": "stderr",
     "output_type": "stream",
     "text": [
      "0it [00:00, ?it/s]                                                                 "
     ]
    },
    {
     "name": "stdout",
     "output_type": "stream",
     "text": [
      "[Epoch 092/201] Train Loss: 5.007723, Train SegAcc: 0.92%, Train iou2d, iou3d: 0.31%, 0.27%, \n"
     ]
    },
    {
     "name": "stderr",
     "output_type": "stream",
     "text": [
      "0it [00:00, ?it/s]                                                                 "
     ]
    },
    {
     "name": "stdout",
     "output_type": "stream",
     "text": [
      "[Epoch 093/201] Train Loss: 5.218163, Train SegAcc: 0.92%, Train iou2d, iou3d: 0.31%, 0.27%, \n"
     ]
    },
    {
     "name": "stderr",
     "output_type": "stream",
     "text": [
      "0it [00:00, ?it/s]                                                                 "
     ]
    },
    {
     "name": "stdout",
     "output_type": "stream",
     "text": [
      "[Epoch 094/201] Train Loss: 5.074896, Train SegAcc: 0.92%, Train iou2d, iou3d: 0.30%, 0.26%, \n"
     ]
    },
    {
     "name": "stderr",
     "output_type": "stream",
     "text": [
      "0it [00:00, ?it/s]                                                                 "
     ]
    },
    {
     "name": "stdout",
     "output_type": "stream",
     "text": [
      "[Epoch 095/201] Train Loss: 5.128337, Train SegAcc: 0.92%, Train iou2d, iou3d: 0.31%, 0.27%, \n"
     ]
    },
    {
     "name": "stderr",
     "output_type": "stream",
     "text": [
      "0it [00:00, ?it/s]                                                                 "
     ]
    },
    {
     "name": "stdout",
     "output_type": "stream",
     "text": [
      "[Epoch 096/201] Train Loss: 5.191559, Train SegAcc: 0.92%, Train iou2d, iou3d: 0.31%, 0.27%, \n"
     ]
    },
    {
     "name": "stderr",
     "output_type": "stream",
     "text": [
      "0it [00:00, ?it/s]                                                                 "
     ]
    },
    {
     "name": "stdout",
     "output_type": "stream",
     "text": [
      "[Epoch 097/201] Train Loss: 5.033629, Train SegAcc: 0.92%, Train iou2d, iou3d: 0.30%, 0.26%, \n"
     ]
    },
    {
     "name": "stderr",
     "output_type": "stream",
     "text": [
      "0it [00:00, ?it/s]                                                                 "
     ]
    },
    {
     "name": "stdout",
     "output_type": "stream",
     "text": [
      "[Epoch 098/201] Train Loss: 5.259198, Train SegAcc: 0.92%, Train iou2d, iou3d: 0.31%, 0.26%, \n"
     ]
    },
    {
     "name": "stderr",
     "output_type": "stream",
     "text": [
      "0it [00:00, ?it/s]                                                                 "
     ]
    },
    {
     "name": "stdout",
     "output_type": "stream",
     "text": [
      "Saved '/home/ubuntu/shy-frustrum-pointnets/outputs/model_100.pth'.\n",
      "[Epoch 099/201] Test Loss: 5.713349, Test SegAcc: 0.903254, Test iou2d, iou3d: 0.31%, 0.26%, \n"
     ]
    },
    {
     "name": "stderr",
     "output_type": "stream",
     "text": [
      "0it [00:00, ?it/s]                                                                 "
     ]
    },
    {
     "name": "stdout",
     "output_type": "stream",
     "text": [
      "[Epoch 100/201] Train Loss: 4.931329, Train SegAcc: 0.92%, Train iou2d, iou3d: 0.31%, 0.26%, \n"
     ]
    },
    {
     "name": "stderr",
     "output_type": "stream",
     "text": [
      "0it [00:00, ?it/s]                                                                 "
     ]
    },
    {
     "name": "stdout",
     "output_type": "stream",
     "text": [
      "[Epoch 101/201] Train Loss: 4.996494, Train SegAcc: 0.92%, Train iou2d, iou3d: 0.30%, 0.26%, \n"
     ]
    },
    {
     "name": "stderr",
     "output_type": "stream",
     "text": [
      "0it [00:00, ?it/s]                                                                 "
     ]
    },
    {
     "name": "stdout",
     "output_type": "stream",
     "text": [
      "[Epoch 102/201] Train Loss: 4.972880, Train SegAcc: 0.92%, Train iou2d, iou3d: 0.30%, 0.26%, \n"
     ]
    },
    {
     "name": "stderr",
     "output_type": "stream",
     "text": [
      "0it [00:00, ?it/s]                                                                 "
     ]
    },
    {
     "name": "stdout",
     "output_type": "stream",
     "text": [
      "[Epoch 103/201] Train Loss: 4.910949, Train SegAcc: 0.92%, Train iou2d, iou3d: 0.30%, 0.25%, \n"
     ]
    },
    {
     "name": "stderr",
     "output_type": "stream",
     "text": [
      "0it [00:00, ?it/s]                                                                 "
     ]
    },
    {
     "name": "stdout",
     "output_type": "stream",
     "text": [
      "[Epoch 104/201] Train Loss: 5.159164, Train SegAcc: 0.92%, Train iou2d, iou3d: 0.31%, 0.26%, \n"
     ]
    },
    {
     "name": "stderr",
     "output_type": "stream",
     "text": [
      "0it [00:00, ?it/s]                                                                 "
     ]
    },
    {
     "name": "stdout",
     "output_type": "stream",
     "text": [
      "[Epoch 105/201] Train Loss: 5.363388, Train SegAcc: 0.92%, Train iou2d, iou3d: 0.30%, 0.26%, \n"
     ]
    },
    {
     "name": "stderr",
     "output_type": "stream",
     "text": [
      "0it [00:00, ?it/s]                                                                 "
     ]
    },
    {
     "name": "stdout",
     "output_type": "stream",
     "text": [
      "[Epoch 106/201] Train Loss: 5.338762, Train SegAcc: 0.92%, Train iou2d, iou3d: 0.30%, 0.26%, \n"
     ]
    },
    {
     "name": "stderr",
     "output_type": "stream",
     "text": [
      "0it [00:00, ?it/s]                                                                 "
     ]
    },
    {
     "name": "stdout",
     "output_type": "stream",
     "text": [
      "[Epoch 107/201] Train Loss: 4.922656, Train SegAcc: 0.92%, Train iou2d, iou3d: 0.30%, 0.26%, \n"
     ]
    },
    {
     "name": "stderr",
     "output_type": "stream",
     "text": [
      "0it [00:00, ?it/s]                                                                 "
     ]
    },
    {
     "name": "stdout",
     "output_type": "stream",
     "text": [
      "[Epoch 108/201] Train Loss: 4.680377, Train SegAcc: 0.92%, Train iou2d, iou3d: 0.30%, 0.26%, \n"
     ]
    },
    {
     "name": "stderr",
     "output_type": "stream",
     "text": [
      "0it [00:00, ?it/s]                                                                 "
     ]
    },
    {
     "name": "stdout",
     "output_type": "stream",
     "text": [
      "Saved '/home/ubuntu/shy-frustrum-pointnets/outputs/model_110.pth'.\n",
      "[Epoch 109/201] Test Loss: 5.509479, Test SegAcc: 0.904878, Test iou2d, iou3d: 0.31%, 0.26%, \n"
     ]
    },
    {
     "name": "stderr",
     "output_type": "stream",
     "text": [
      "0it [00:00, ?it/s]                                                                 "
     ]
    },
    {
     "name": "stdout",
     "output_type": "stream",
     "text": [
      "[Epoch 110/201] Train Loss: 4.751994, Train SegAcc: 0.92%, Train iou2d, iou3d: 0.30%, 0.26%, \n"
     ]
    },
    {
     "name": "stderr",
     "output_type": "stream",
     "text": [
      "0it [00:00, ?it/s]                                                                 "
     ]
    },
    {
     "name": "stdout",
     "output_type": "stream",
     "text": [
      "[Epoch 111/201] Train Loss: 5.300866, Train SegAcc: 0.92%, Train iou2d, iou3d: 0.31%, 0.26%, \n"
     ]
    },
    {
     "name": "stderr",
     "output_type": "stream",
     "text": [
      "0it [00:00, ?it/s]                                                                 "
     ]
    },
    {
     "name": "stdout",
     "output_type": "stream",
     "text": [
      "[Epoch 112/201] Train Loss: 5.095984, Train SegAcc: 0.92%, Train iou2d, iou3d: 0.31%, 0.26%, \n"
     ]
    },
    {
     "name": "stderr",
     "output_type": "stream",
     "text": [
      "0it [00:00, ?it/s]                                                                 "
     ]
    },
    {
     "name": "stdout",
     "output_type": "stream",
     "text": [
      "[Epoch 113/201] Train Loss: 5.181204, Train SegAcc: 0.92%, Train iou2d, iou3d: 0.30%, 0.26%, \n"
     ]
    },
    {
     "name": "stderr",
     "output_type": "stream",
     "text": [
      "0it [00:00, ?it/s]                                                                 "
     ]
    },
    {
     "name": "stdout",
     "output_type": "stream",
     "text": [
      "[Epoch 114/201] Train Loss: 5.447180, Train SegAcc: 0.92%, Train iou2d, iou3d: 0.31%, 0.26%, \n"
     ]
    },
    {
     "name": "stderr",
     "output_type": "stream",
     "text": [
      "0it [00:00, ?it/s]                                                                 "
     ]
    },
    {
     "name": "stdout",
     "output_type": "stream",
     "text": [
      "[Epoch 115/201] Train Loss: 5.425597, Train SegAcc: 0.92%, Train iou2d, iou3d: 0.30%, 0.26%, \n"
     ]
    },
    {
     "name": "stderr",
     "output_type": "stream",
     "text": [
      "0it [00:00, ?it/s]                                                                 "
     ]
    },
    {
     "name": "stdout",
     "output_type": "stream",
     "text": [
      "[Epoch 116/201] Train Loss: 4.938913, Train SegAcc: 0.92%, Train iou2d, iou3d: 0.31%, 0.26%, \n"
     ]
    },
    {
     "name": "stderr",
     "output_type": "stream",
     "text": [
      "0it [00:00, ?it/s]                                                                 "
     ]
    },
    {
     "name": "stdout",
     "output_type": "stream",
     "text": [
      "[Epoch 117/201] Train Loss: 4.801287, Train SegAcc: 0.92%, Train iou2d, iou3d: 0.30%, 0.26%, \n"
     ]
    },
    {
     "name": "stderr",
     "output_type": "stream",
     "text": [
      "0it [00:00, ?it/s]                                                                 "
     ]
    },
    {
     "name": "stdout",
     "output_type": "stream",
     "text": [
      "[Epoch 118/201] Train Loss: 5.174868, Train SegAcc: 0.92%, Train iou2d, iou3d: 0.30%, 0.26%, \n"
     ]
    },
    {
     "name": "stderr",
     "output_type": "stream",
     "text": [
      "0it [00:00, ?it/s]                                                                 "
     ]
    },
    {
     "name": "stdout",
     "output_type": "stream",
     "text": [
      "Saved '/home/ubuntu/shy-frustrum-pointnets/outputs/model_120.pth'.\n",
      "[Epoch 119/201] Test Loss: 5.474310, Test SegAcc: 0.904841, Test iou2d, iou3d: 0.33%, 0.28%, \n"
     ]
    },
    {
     "name": "stderr",
     "output_type": "stream",
     "text": [
      "0it [00:00, ?it/s]                                                                 "
     ]
    },
    {
     "name": "stdout",
     "output_type": "stream",
     "text": [
      "[Epoch 120/201] Train Loss: 5.218511, Train SegAcc: 0.92%, Train iou2d, iou3d: 0.31%, 0.26%, \n"
     ]
    },
    {
     "name": "stderr",
     "output_type": "stream",
     "text": [
      "0it [00:00, ?it/s]                                                                 "
     ]
    },
    {
     "name": "stdout",
     "output_type": "stream",
     "text": [
      "[Epoch 121/201] Train Loss: 5.086965, Train SegAcc: 0.92%, Train iou2d, iou3d: 0.30%, 0.26%, \n"
     ]
    },
    {
     "name": "stderr",
     "output_type": "stream",
     "text": [
      "0it [00:00, ?it/s]                                                                 "
     ]
    },
    {
     "name": "stdout",
     "output_type": "stream",
     "text": [
      "[Epoch 122/201] Train Loss: 4.898589, Train SegAcc: 0.92%, Train iou2d, iou3d: 0.30%, 0.26%, \n"
     ]
    },
    {
     "name": "stderr",
     "output_type": "stream",
     "text": [
      "0it [00:00, ?it/s]                                                                 "
     ]
    },
    {
     "name": "stdout",
     "output_type": "stream",
     "text": [
      "[Epoch 123/201] Train Loss: 4.628609, Train SegAcc: 0.92%, Train iou2d, iou3d: 0.30%, 0.26%, \n"
     ]
    },
    {
     "name": "stderr",
     "output_type": "stream",
     "text": [
      "0it [00:00, ?it/s]                                                                 "
     ]
    },
    {
     "name": "stdout",
     "output_type": "stream",
     "text": [
      "[Epoch 124/201] Train Loss: 4.850543, Train SegAcc: 0.92%, Train iou2d, iou3d: 0.31%, 0.26%, \n"
     ]
    },
    {
     "name": "stderr",
     "output_type": "stream",
     "text": [
      "0it [00:00, ?it/s]                                                                 "
     ]
    },
    {
     "name": "stdout",
     "output_type": "stream",
     "text": [
      "[Epoch 125/201] Train Loss: 4.909910, Train SegAcc: 0.92%, Train iou2d, iou3d: 0.30%, 0.26%, \n"
     ]
    },
    {
     "name": "stderr",
     "output_type": "stream",
     "text": [
      "0it [00:00, ?it/s]                                                                 "
     ]
    },
    {
     "name": "stdout",
     "output_type": "stream",
     "text": [
      "[Epoch 126/201] Train Loss: 5.001898, Train SegAcc: 0.92%, Train iou2d, iou3d: 0.30%, 0.26%, \n"
     ]
    },
    {
     "name": "stderr",
     "output_type": "stream",
     "text": [
      "[Epoch 127/201] Train Loss: 4.548826, SegAcc : 0.90%: : 1248it [00:06, 187.35it/s]"
     ]
    },
    {
     "ename": "KeyboardInterrupt",
     "evalue": "",
     "output_type": "error",
     "traceback": [
      "\u001b[0;31m---------------------------------------------------------------------------\u001b[0m",
      "\u001b[0;31mKeyboardInterrupt\u001b[0m                         Traceback (most recent call last)",
      "\u001b[0;32m<ipython-input-10-441e567bd87b>\u001b[0m in \u001b[0;36m<module>\u001b[0;34m\u001b[0m\n\u001b[1;32m      7\u001b[0m \u001b[0;34m\u001b[0m\u001b[0m\n\u001b[1;32m      8\u001b[0m     \u001b[0;31m# do training\u001b[0m\u001b[0;34m\u001b[0m\u001b[0;34m\u001b[0m\u001b[0;34m\u001b[0m\u001b[0m\n\u001b[0;32m----> 9\u001b[0;31m     mean_loss, mean_acc, mean_2d, mean_3d = run_epoch_train(\n\u001b[0m\u001b[1;32m     10\u001b[0m         train_dataset, train_dataloader, True, epoch, train_writer)\n\u001b[1;32m     11\u001b[0m \u001b[0;34m\u001b[0m\u001b[0m\n",
      "\u001b[0;32m<ipython-input-9-ee802e5e1072>\u001b[0m in \u001b[0;36mrun_epoch_train\u001b[0;34m(dataset, dataloader, train, epoch, writer)\u001b[0m\n\u001b[1;32m     69\u001b[0m     \u001b[0;32mfor\u001b[0m \u001b[0mi\u001b[0m\u001b[0;34m,\u001b[0m \u001b[0mdata\u001b[0m \u001b[0;32min\u001b[0m \u001b[0menumerate\u001b[0m\u001b[0;34m(\u001b[0m\u001b[0mdataloader\u001b[0m\u001b[0;34m)\u001b[0m\u001b[0;34m:\u001b[0m\u001b[0;34m\u001b[0m\u001b[0;34m\u001b[0m\u001b[0m\n\u001b[1;32m     70\u001b[0m         \u001b[0;31m# Run one step.\u001b[0m\u001b[0;34m\u001b[0m\u001b[0;34m\u001b[0m\u001b[0;34m\u001b[0m\u001b[0m\n\u001b[0;32m---> 71\u001b[0;31m         \u001b[0mloss\u001b[0m\u001b[0;34m,\u001b[0m \u001b[0mseg_accuracy\u001b[0m\u001b[0;34m,\u001b[0m \u001b[0mmean_iou2ds\u001b[0m\u001b[0;34m,\u001b[0m \u001b[0mmean_iou3ds\u001b[0m \u001b[0;34m=\u001b[0m \u001b[0mrun_train\u001b[0m\u001b[0;34m(\u001b[0m\u001b[0mdata\u001b[0m\u001b[0;34m,\u001b[0m \u001b[0mnet\u001b[0m\u001b[0;34m,\u001b[0m \u001b[0moptimizer\u001b[0m\u001b[0;34m,\u001b[0m \u001b[0mwriter\u001b[0m\u001b[0;34m)\u001b[0m\u001b[0;34m\u001b[0m\u001b[0;34m\u001b[0m\u001b[0m\n\u001b[0m\u001b[1;32m     72\u001b[0m \u001b[0;34m\u001b[0m\u001b[0m\n\u001b[1;32m     73\u001b[0m         \u001b[0;32mif\u001b[0m \u001b[0mtrain\u001b[0m \u001b[0;32mand\u001b[0m \u001b[0mwriter\u001b[0m \u001b[0;32mis\u001b[0m \u001b[0;32mnot\u001b[0m \u001b[0;32mNone\u001b[0m\u001b[0;34m:\u001b[0m\u001b[0;34m\u001b[0m\u001b[0;34m\u001b[0m\u001b[0m\n",
      "\u001b[0;32m<ipython-input-7-07f6b3ea3b47>\u001b[0m in \u001b[0;36mrun_train\u001b[0;34m(data, net, optimizer, writer)\u001b[0m\n\u001b[1;32m     18\u001b[0m     \u001b[0mend_points\u001b[0m \u001b[0;34m=\u001b[0m \u001b[0mnet\u001b[0m\u001b[0;34m.\u001b[0m\u001b[0mtrain\u001b[0m\u001b[0;34m(\u001b[0m\u001b[0;34m)\u001b[0m\u001b[0;34m(\u001b[0m\u001b[0mbatch_data\u001b[0m\u001b[0;34m,\u001b[0m \u001b[0mbatch_one_hot_vec\u001b[0m\u001b[0;34m)\u001b[0m\u001b[0;34m\u001b[0m\u001b[0;34m\u001b[0m\u001b[0m\n\u001b[1;32m     19\u001b[0m \u001b[0;34m\u001b[0m\u001b[0m\n\u001b[0;32m---> 20\u001b[0;31m     loss = get_loss(batch_label, batch_center, batch_heading_class, \\\n\u001b[0m\u001b[1;32m     21\u001b[0m                     batch_heading_residual, batch_size_class, batch_size_residual, end_points, None, None)\n\u001b[1;32m     22\u001b[0m \u001b[0;34m\u001b[0m\u001b[0m\n",
      "\u001b[0;32m~/shy-frustrum-pointnets/models/shy_frustrum_pointnet.py\u001b[0m in \u001b[0;36mget_loss\u001b[0;34m(mask_label, center_label, heading_class_label, heading_residual_label, size_class_label, size_residual_label, end_points, writer, step, corner_loss_weight, box_loss_weight)\u001b[0m\n\u001b[1;32m    448\u001b[0m \u001b[0;31m#     tf.summary.scalar('3d mask loss', mask_loss)\u001b[0m\u001b[0;34m\u001b[0m\u001b[0;34m\u001b[0m\u001b[0;34m\u001b[0m\u001b[0m\n\u001b[1;32m    449\u001b[0m     \u001b[0mloss3d\u001b[0m \u001b[0;34m=\u001b[0m \u001b[0mnn\u001b[0m\u001b[0;34m.\u001b[0m\u001b[0mCrossEntropyLoss\u001b[0m\u001b[0;34m(\u001b[0m\u001b[0mreduction\u001b[0m \u001b[0;34m=\u001b[0m\u001b[0;34m'mean'\u001b[0m\u001b[0;34m)\u001b[0m\u001b[0;34m\u001b[0m\u001b[0;34m\u001b[0m\u001b[0m\n\u001b[0;32m--> 450\u001b[0;31m     \u001b[0mmask_loss\u001b[0m \u001b[0;34m=\u001b[0m \u001b[0mloss3d\u001b[0m\u001b[0;34m(\u001b[0m\u001b[0mend_points\u001b[0m\u001b[0;34m[\u001b[0m\u001b[0;34m'mask_logits'\u001b[0m\u001b[0;34m]\u001b[0m\u001b[0;34m.\u001b[0m\u001b[0mtranspose\u001b[0m\u001b[0;34m(\u001b[0m\u001b[0;36m2\u001b[0m\u001b[0;34m,\u001b[0m\u001b[0;36m1\u001b[0m\u001b[0;34m)\u001b[0m\u001b[0;34m,\u001b[0m \u001b[0;34m(\u001b[0m\u001b[0mmask_label\u001b[0m\u001b[0;34m)\u001b[0m \u001b[0;34m)\u001b[0m\u001b[0;34m\u001b[0m\u001b[0;34m\u001b[0m\u001b[0m\n\u001b[0m\u001b[1;32m    451\u001b[0m \u001b[0;34m\u001b[0m\u001b[0m\n\u001b[1;32m    452\u001b[0m     \u001b[0;31m# Center regression losses\u001b[0m\u001b[0;34m\u001b[0m\u001b[0;34m\u001b[0m\u001b[0;34m\u001b[0m\u001b[0m\n",
      "\u001b[0;32m~/venv/lib/python3.8/site-packages/torch/nn/modules/module.py\u001b[0m in \u001b[0;36m_call_impl\u001b[0;34m(self, *input, **kwargs)\u001b[0m\n\u001b[1;32m    725\u001b[0m             \u001b[0mresult\u001b[0m \u001b[0;34m=\u001b[0m \u001b[0mself\u001b[0m\u001b[0;34m.\u001b[0m\u001b[0m_slow_forward\u001b[0m\u001b[0;34m(\u001b[0m\u001b[0;34m*\u001b[0m\u001b[0minput\u001b[0m\u001b[0;34m,\u001b[0m \u001b[0;34m**\u001b[0m\u001b[0mkwargs\u001b[0m\u001b[0;34m)\u001b[0m\u001b[0;34m\u001b[0m\u001b[0;34m\u001b[0m\u001b[0m\n\u001b[1;32m    726\u001b[0m         \u001b[0;32melse\u001b[0m\u001b[0;34m:\u001b[0m\u001b[0;34m\u001b[0m\u001b[0;34m\u001b[0m\u001b[0m\n\u001b[0;32m--> 727\u001b[0;31m             \u001b[0mresult\u001b[0m \u001b[0;34m=\u001b[0m \u001b[0mself\u001b[0m\u001b[0;34m.\u001b[0m\u001b[0mforward\u001b[0m\u001b[0;34m(\u001b[0m\u001b[0;34m*\u001b[0m\u001b[0minput\u001b[0m\u001b[0;34m,\u001b[0m \u001b[0;34m**\u001b[0m\u001b[0mkwargs\u001b[0m\u001b[0;34m)\u001b[0m\u001b[0;34m\u001b[0m\u001b[0;34m\u001b[0m\u001b[0m\n\u001b[0m\u001b[1;32m    728\u001b[0m         for hook in itertools.chain(\n\u001b[1;32m    729\u001b[0m                 \u001b[0m_global_forward_hooks\u001b[0m\u001b[0;34m.\u001b[0m\u001b[0mvalues\u001b[0m\u001b[0;34m(\u001b[0m\u001b[0;34m)\u001b[0m\u001b[0;34m,\u001b[0m\u001b[0;34m\u001b[0m\u001b[0;34m\u001b[0m\u001b[0m\n",
      "\u001b[0;32m~/venv/lib/python3.8/site-packages/torch/nn/modules/loss.py\u001b[0m in \u001b[0;36mforward\u001b[0;34m(self, input, target)\u001b[0m\n\u001b[1;32m    959\u001b[0m \u001b[0;34m\u001b[0m\u001b[0m\n\u001b[1;32m    960\u001b[0m     \u001b[0;32mdef\u001b[0m \u001b[0mforward\u001b[0m\u001b[0;34m(\u001b[0m\u001b[0mself\u001b[0m\u001b[0;34m,\u001b[0m \u001b[0minput\u001b[0m\u001b[0;34m:\u001b[0m \u001b[0mTensor\u001b[0m\u001b[0;34m,\u001b[0m \u001b[0mtarget\u001b[0m\u001b[0;34m:\u001b[0m \u001b[0mTensor\u001b[0m\u001b[0;34m)\u001b[0m \u001b[0;34m->\u001b[0m \u001b[0mTensor\u001b[0m\u001b[0;34m:\u001b[0m\u001b[0;34m\u001b[0m\u001b[0;34m\u001b[0m\u001b[0m\n\u001b[0;32m--> 961\u001b[0;31m         return F.cross_entropy(input, target, weight=self.weight,\n\u001b[0m\u001b[1;32m    962\u001b[0m                                ignore_index=self.ignore_index, reduction=self.reduction)\n\u001b[1;32m    963\u001b[0m \u001b[0;34m\u001b[0m\u001b[0m\n",
      "\u001b[0;32m~/venv/lib/python3.8/site-packages/torch/nn/functional.py\u001b[0m in \u001b[0;36mcross_entropy\u001b[0;34m(input, target, weight, size_average, ignore_index, reduce, reduction)\u001b[0m\n\u001b[1;32m   2466\u001b[0m     \u001b[0;32mif\u001b[0m \u001b[0msize_average\u001b[0m \u001b[0;32mis\u001b[0m \u001b[0;32mnot\u001b[0m \u001b[0;32mNone\u001b[0m \u001b[0;32mor\u001b[0m \u001b[0mreduce\u001b[0m \u001b[0;32mis\u001b[0m \u001b[0;32mnot\u001b[0m \u001b[0;32mNone\u001b[0m\u001b[0;34m:\u001b[0m\u001b[0;34m\u001b[0m\u001b[0;34m\u001b[0m\u001b[0m\n\u001b[1;32m   2467\u001b[0m         \u001b[0mreduction\u001b[0m \u001b[0;34m=\u001b[0m \u001b[0m_Reduction\u001b[0m\u001b[0;34m.\u001b[0m\u001b[0mlegacy_get_string\u001b[0m\u001b[0;34m(\u001b[0m\u001b[0msize_average\u001b[0m\u001b[0;34m,\u001b[0m \u001b[0mreduce\u001b[0m\u001b[0;34m)\u001b[0m\u001b[0;34m\u001b[0m\u001b[0;34m\u001b[0m\u001b[0m\n\u001b[0;32m-> 2468\u001b[0;31m     \u001b[0;32mreturn\u001b[0m \u001b[0mnll_loss\u001b[0m\u001b[0;34m(\u001b[0m\u001b[0mlog_softmax\u001b[0m\u001b[0;34m(\u001b[0m\u001b[0minput\u001b[0m\u001b[0;34m,\u001b[0m \u001b[0;36m1\u001b[0m\u001b[0;34m)\u001b[0m\u001b[0;34m,\u001b[0m \u001b[0mtarget\u001b[0m\u001b[0;34m,\u001b[0m \u001b[0mweight\u001b[0m\u001b[0;34m,\u001b[0m \u001b[0;32mNone\u001b[0m\u001b[0;34m,\u001b[0m \u001b[0mignore_index\u001b[0m\u001b[0;34m,\u001b[0m \u001b[0;32mNone\u001b[0m\u001b[0;34m,\u001b[0m \u001b[0mreduction\u001b[0m\u001b[0;34m)\u001b[0m\u001b[0;34m\u001b[0m\u001b[0;34m\u001b[0m\u001b[0m\n\u001b[0m\u001b[1;32m   2469\u001b[0m \u001b[0;34m\u001b[0m\u001b[0m\n\u001b[1;32m   2470\u001b[0m \u001b[0;34m\u001b[0m\u001b[0m\n",
      "\u001b[0;32m~/venv/lib/python3.8/site-packages/torch/nn/functional.py\u001b[0m in \u001b[0;36mlog_softmax\u001b[0;34m(input, dim, _stacklevel, dtype)\u001b[0m\n\u001b[1;32m   1603\u001b[0m         \u001b[0mdim\u001b[0m \u001b[0;34m=\u001b[0m \u001b[0m_get_softmax_dim\u001b[0m\u001b[0;34m(\u001b[0m\u001b[0;34m'log_softmax'\u001b[0m\u001b[0;34m,\u001b[0m \u001b[0minput\u001b[0m\u001b[0;34m.\u001b[0m\u001b[0mdim\u001b[0m\u001b[0;34m(\u001b[0m\u001b[0;34m)\u001b[0m\u001b[0;34m,\u001b[0m \u001b[0m_stacklevel\u001b[0m\u001b[0;34m)\u001b[0m\u001b[0;34m\u001b[0m\u001b[0;34m\u001b[0m\u001b[0m\n\u001b[1;32m   1604\u001b[0m     \u001b[0;32mif\u001b[0m \u001b[0mdtype\u001b[0m \u001b[0;32mis\u001b[0m \u001b[0;32mNone\u001b[0m\u001b[0;34m:\u001b[0m\u001b[0;34m\u001b[0m\u001b[0;34m\u001b[0m\u001b[0m\n\u001b[0;32m-> 1605\u001b[0;31m         \u001b[0mret\u001b[0m \u001b[0;34m=\u001b[0m \u001b[0minput\u001b[0m\u001b[0;34m.\u001b[0m\u001b[0mlog_softmax\u001b[0m\u001b[0;34m(\u001b[0m\u001b[0mdim\u001b[0m\u001b[0;34m)\u001b[0m\u001b[0;34m\u001b[0m\u001b[0;34m\u001b[0m\u001b[0m\n\u001b[0m\u001b[1;32m   1606\u001b[0m     \u001b[0;32melse\u001b[0m\u001b[0;34m:\u001b[0m\u001b[0;34m\u001b[0m\u001b[0;34m\u001b[0m\u001b[0m\n\u001b[1;32m   1607\u001b[0m         \u001b[0mret\u001b[0m \u001b[0;34m=\u001b[0m \u001b[0minput\u001b[0m\u001b[0;34m.\u001b[0m\u001b[0mlog_softmax\u001b[0m\u001b[0;34m(\u001b[0m\u001b[0mdim\u001b[0m\u001b[0;34m,\u001b[0m \u001b[0mdtype\u001b[0m\u001b[0;34m=\u001b[0m\u001b[0mdtype\u001b[0m\u001b[0;34m)\u001b[0m\u001b[0;34m\u001b[0m\u001b[0;34m\u001b[0m\u001b[0m\n",
      "\u001b[0;31mKeyboardInterrupt\u001b[0m: "
     ]
    }
   ],
   "source": [
    "# initialize writers\n",
    "train_writer = SummaryWriter(TRAIN_LOG)\n",
    "test_writer = SummaryWriter(TEST_LOG)\n",
    "\n",
    "# training process\n",
    "for epoch in range(MAX_EPOCH):\n",
    "    \n",
    "    # do training\n",
    "    mean_loss, mean_acc, mean_2d, mean_3d = run_epoch_train(\n",
    "        train_dataset, train_dataloader, True, epoch, train_writer)\n",
    "    \n",
    "    \n",
    "    \n",
    "    # do testing\n",
    "    if (epoch + 1) % 10 == 0:\n",
    "        # Save the model.\n",
    "        mean_test_loss, mean_test_acc, mean_test_2d, mean_test_3d = run_epoch_test(\n",
    "            test_dataset, test_dataloader, False, epoch, test_writer)\n",
    "        model_file = os.path.join(OUT_DIR, 'model_{:d}.pth'.format(epoch + 1))\n",
    "        torch.save(net.state_dict(), model_file)\n",
    "        print(\"Saved '{}'.\".format(model_file))\n",
    "        epoch_str = '' if epoch is None else '[Epoch {}/{}]'.format(\n",
    "                str(epoch).zfill(len(str(MAX_EPOCH))), MAX_EPOCH)\n",
    "        log = epoch_str + ' '\n",
    "        log += 'Test Loss: {:f}, '.format(mean_test_loss)\n",
    "        log += 'Test SegAcc: {:f}, '.format(mean_test_acc)\n",
    "        log += 'Test iou2d, iou3d: {:.2f}%, {:.2f}%, '.format(mean_test_2d, mean_test_3d)\n",
    "        print(log)\n",
    "    else:\n",
    "        epoch_str = '' if epoch is None else '[Epoch {}/{}]'.format(\n",
    "                str(epoch).zfill(len(str(MAX_EPOCH))), MAX_EPOCH)\n",
    "        log = epoch_str + ' '\n",
    "        log += 'Train Loss: {:f}, '.format(mean_loss)\n",
    "        log += 'Train SegAcc: {:.2f}%, '.format(mean_acc)\n",
    "        log += 'Train iou2d, iou3d: {:.2f}%, {:.2f}%, '.format(mean_2d, mean_3d)\n",
    "        print(log)\n",
    "    \n",
    "    scheduler.step()\n",
    "\n",
    "train_writer.close()\n",
    "test_writer.close()"
   ]
  }
 ],
 "metadata": {
  "kernelspec": {
   "display_name": "Python 3",
   "language": "python",
   "name": "python3"
  },
  "language_info": {
   "codemirror_mode": {
    "name": "ipython",
    "version": 3
   },
   "file_extension": ".py",
   "mimetype": "text/x-python",
   "name": "python",
   "nbconvert_exporter": "python",
   "pygments_lexer": "ipython3",
   "version": "3.8.0"
  }
 },
 "nbformat": 4,
 "nbformat_minor": 5
}

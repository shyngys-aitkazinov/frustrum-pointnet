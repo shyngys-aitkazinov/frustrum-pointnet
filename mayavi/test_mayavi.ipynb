{
 "cells": [
  {
   "cell_type": "code",
   "execution_count": 17,
   "metadata": {},
   "outputs": [],
   "source": [
    "from xvfbwrapper import Xvfb\n",
    "vdisplay = Xvfb(width=1920, height=1080)\n",
    "vdisplay.start()\n",
    "\n"
   ]
  },
  {
   "cell_type": "code",
   "execution_count": 34,
   "metadata": {
    "scrolled": false
   },
   "outputs": [
    {
     "name": "stdout",
     "output_type": "stream",
     "text": [
      "Notebook initialized with ipy backend.\n"
     ]
    }
   ],
   "source": [
    "from mayavi import mlab\n",
    "mlab.init_notebook('ipy', 800, 450)\n",
    "# mlab.options.offscreen = True"
   ]
  },
  {
   "cell_type": "code",
   "execution_count": 39,
   "metadata": {},
   "outputs": [],
   "source": [
    "import numpy as np\n",
    "def test_plot3d():\n",
    "    \"\"\"Generates a pretty set of lines.\"\"\"\n",
    "    n_mer, n_long = 6, 11\n",
    "    pi = np.pi\n",
    "    dphi = pi / 1000.0\n",
    "    phi = np.arange(0.0, 2 * pi + 0.5 * dphi, dphi)\n",
    "    mu = phi * n_mer\n",
    "    x = np.cos(mu) * (1 + np.cos(n_long * mu / n_mer) * 0.5)\n",
    "    y = np.sin(mu) * (1 + np.cos(n_long * mu / n_mer) * 0.5)\n",
    "    z = np.sin(n_long * mu / n_mer) * 0.5\n",
    "\n",
    "    l = mlab.plot3d(x, y, z, numpy.sin(mu), tube_radius=0.025, colormap='Spectral')\n",
    "    return l\n"
   ]
  },
  {
   "cell_type": "code",
   "execution_count": 37,
   "metadata": {},
   "outputs": [],
   "source": [
    "import viz_util"
   ]
  },
  {
   "cell_type": "code",
   "execution_count": 45,
   "metadata": {},
   "outputs": [],
   "source": [
    "pc = np.loadtxt('kitti_sample_scan.txt')\n",
    "fig = viz_util.draw_lidar(pc)\n",
    "fig = mlab.savefig('pc_view.jpg', figure=fig)\n"
   ]
  }
 ],
 "metadata": {
  "kernelspec": {
   "display_name": "Python 3",
   "language": "python",
   "name": "python3"
  },
  "language_info": {
   "codemirror_mode": {
    "name": "ipython",
    "version": 3
   },
   "file_extension": ".py",
   "mimetype": "text/x-python",
   "name": "python",
   "nbconvert_exporter": "python",
   "pygments_lexer": "ipython3",
   "version": "3.7.10"
  },
  "widgets": {
   "application/vnd.jupyter.widget-state+json": {
    "state": {},
    "version_major": 2,
    "version_minor": 0
   }
  }
 },
 "nbformat": 4,
 "nbformat_minor": 4
}
